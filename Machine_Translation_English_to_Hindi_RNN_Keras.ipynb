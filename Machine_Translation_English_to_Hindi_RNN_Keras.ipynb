{
 "cells": [
  {
   "cell_type": "markdown",
   "metadata": {},
   "source": [
    "# Machine Translation - English to Hindi\n",
    "\n",
    "It translates English sentenece into Hindi sentence"
   ]
  },
  {
   "cell_type": "code",
   "execution_count": 1,
   "metadata": {},
   "outputs": [
    {
     "name": "stderr",
     "output_type": "stream",
     "text": [
      "Using TensorFlow backend.\n"
     ]
    }
   ],
   "source": [
    "from keras.models import Model\n",
    "from keras.layers import Input, LSTM, Dense\n",
    "import numpy as np"
   ]
  },
  {
   "cell_type": "code",
   "execution_count": 2,
   "metadata": {},
   "outputs": [],
   "source": [
    "# Define Parameters\n",
    "\n",
    "batch_size = 64  # Batch size for training.\n",
    "epochs = 100  # Number of epochs to train for.\n",
    "latent_dim = 256  # Latent dimensionality of the encoding space.\n",
    "num_samples = 2867 # 10000  # Number of samples to train on.\n",
    "# Path to the data txt file on disk.\n",
    "data_path = 'hin-eng/hin.txt'"
   ]
  },
  {
   "cell_type": "code",
   "execution_count": 3,
   "metadata": {},
   "outputs": [],
   "source": [
    "# Vectorize the data.\n",
    "input_texts = []\n",
    "target_texts = []\n",
    "input_characters = set()\n",
    "target_characters = set()"
   ]
  },
  {
   "cell_type": "code",
   "execution_count": 4,
   "metadata": {},
   "outputs": [],
   "source": [
    "with open(data_path, 'r', encoding='utf-8') as f:\n",
    "    lines = f.read().split('\\n')"
   ]
  },
  {
   "cell_type": "code",
   "execution_count": 5,
   "metadata": {},
   "outputs": [
    {
     "data": {
      "text/plain": [
       "['Wow!\\tवाह!',\n",
       " 'Help!\\tबचाओ!',\n",
       " 'Jump.\\tउछलो.',\n",
       " 'Jump.\\tकूदो.',\n",
       " 'Jump.\\tछलांग.',\n",
       " 'Hello!\\tनमस्ते।',\n",
       " 'Hello!\\tनमस्कार।',\n",
       " 'Cheers!\\tवाह-वाह!',\n",
       " 'Cheers!\\tचियर्स!',\n",
       " 'Got it?\\tसमझे कि नहीं?']"
      ]
     },
     "execution_count": 5,
     "metadata": {},
     "output_type": "execute_result"
    }
   ],
   "source": [
    "# Let's see first 10 rows of data\n",
    "lines[:10]"
   ]
  },
  {
   "cell_type": "code",
   "execution_count": 6,
   "metadata": {},
   "outputs": [],
   "source": [
    "# input_texts - collection of english lines\n",
    "# target_texts - collection of hindi lines\n",
    "# input_characters - vocabulary of english characters\n",
    "# target_characters - vocabulary of hindi characters\n",
    "\n",
    "for line in lines[: min(num_samples, len(lines) - 1)]:\n",
    "    input_text, target_text = line.split('\\t')\n",
    "    # We use \"tab\" as the \"start sequence\" character\n",
    "    # for the targets, and \"\\n\" as \"end sequence\" character.\n",
    "    target_text = '\\t' + target_text + '\\n'\n",
    "    input_texts.append(input_text)\n",
    "    target_texts.append(target_text)\n",
    "    for char in input_text:\n",
    "        if char not in input_characters:\n",
    "            input_characters.add(char)\n",
    "    for char in target_text:\n",
    "        if char not in target_characters:\n",
    "            target_characters.add(char)"
   ]
  },
  {
   "cell_type": "code",
   "execution_count": 7,
   "metadata": {},
   "outputs": [],
   "source": [
    "# num_encoder_tokens - size of eng vocab\n",
    "# num_decoder_tokens - size of hin vocab\n",
    "# max_encoder_seq_length - Longest sequence length [Eng]\n",
    "# max_decoder_seq_length - Longest sequence length [Hindi]\n",
    "\n",
    "input_characters = sorted(list(input_characters))\n",
    "target_characters = sorted(list(target_characters))\n",
    "num_encoder_tokens = len(input_characters)\n",
    "num_decoder_tokens = len(target_characters)\n",
    "max_encoder_seq_length = max([len(txt) for txt in input_texts])\n",
    "max_decoder_seq_length = max([len(txt) for txt in target_texts])"
   ]
  },
  {
   "cell_type": "code",
   "execution_count": 8,
   "metadata": {},
   "outputs": [
    {
     "name": "stdout",
     "output_type": "stream",
     "text": [
      "Number of samples/input examples: 2867\n",
      "Number of unique input tokens: 70\n",
      "Number of unique output tokens: 92\n",
      "Max sequence length for inputs: 124\n",
      "Max sequence length for outputs: 123\n"
     ]
    }
   ],
   "source": [
    "print('Number of samples/input examples:', len(input_texts))\n",
    "print('Number of unique input tokens:', num_encoder_tokens)\n",
    "print('Number of unique output tokens:', num_decoder_tokens)\n",
    "print('Max sequence length for inputs:', max_encoder_seq_length)\n",
    "print('Max sequence length for outputs:', max_decoder_seq_length)"
   ]
  },
  {
   "cell_type": "code",
   "execution_count": 9,
   "metadata": {},
   "outputs": [],
   "source": [
    "# Create tuple of (index, character)\n",
    "\n",
    "input_token_index = dict(\n",
    "    [(char, i) for i, char in enumerate(input_characters)])\n",
    "target_token_index = dict(\n",
    "    [(char, i) for i, char in enumerate(target_characters)])"
   ]
  },
  {
   "cell_type": "code",
   "execution_count": 10,
   "metadata": {},
   "outputs": [],
   "source": [
    "# Declare array using format (m, vocab_size, maximum_sentence_length)\n",
    "# Where m - No. of input examples\n",
    "# max_encoder_seq_length - vocab_size of eng language\n",
    "# max_decoder_seq_length - vocab_size of hindi language\n",
    "# num_decoder_tokens - maximum sentence of output length\n",
    "\n",
    "encoder_input_data = np.zeros(\n",
    "    (len(input_texts), max_encoder_seq_length, num_encoder_tokens),\n",
    "    dtype='float32')\n",
    "decoder_input_data = np.zeros(\n",
    "    (len(input_texts), max_decoder_seq_length, num_decoder_tokens),\n",
    "    dtype='float32')\n",
    "decoder_target_data = np.zeros(\n",
    "    (len(input_texts), max_decoder_seq_length, num_decoder_tokens),\n",
    "    dtype='float32')"
   ]
  },
  {
   "cell_type": "code",
   "execution_count": 11,
   "metadata": {},
   "outputs": [],
   "source": [
    "# Iterate over input text and target text\n",
    "# Fill encoder_input_data with (index_of_input_text, index_of_char, index_of_char_index_dict)\n",
    "for i, (input_text, target_text) in enumerate(zip(input_texts, target_texts)):\n",
    "    for t, char in enumerate(input_text):\n",
    "        encoder_input_data[i, t, input_token_index[char]] = 1.\n",
    "    for t, char in enumerate(target_text):\n",
    "        # decoder_target_data is ahead of decoder_input_data by one timestep\n",
    "        decoder_input_data[i, t, target_token_index[char]] = 1.\n",
    "        if t > 0:\n",
    "            # decoder_target_data will be ahead by one timestep\n",
    "            # and will not include the start character.\n",
    "            decoder_target_data[i, t - 1, target_token_index[char]] = 1."
   ]
  },
  {
   "cell_type": "code",
   "execution_count": 12,
   "metadata": {},
   "outputs": [],
   "source": [
    "# Define an input sequence and process it.\n",
    "encoder_inputs = Input(shape=(None, num_encoder_tokens)) # num_encoder_tokens - vocab size\n",
    "encoder = LSTM(latent_dim, return_state=True)\n",
    "encoder_outputs, state_h, state_c = encoder(encoder_inputs)\n",
    "# We discard `encoder_outputs` and only keep the states.\n",
    "encoder_states = [state_h, state_c]"
   ]
  },
  {
   "cell_type": "code",
   "execution_count": 13,
   "metadata": {},
   "outputs": [],
   "source": [
    "# Set up the decoder, using `encoder_states` as initial state.\n",
    "decoder_inputs = Input(shape=(None, num_decoder_tokens)) # num_decoder_tokens - vocab size\n",
    "# We set up our decoder to return full output sequences,\n",
    "# and to return internal states as well. We don't use the\n",
    "# return states in the training model, but we will use them in inference.\n",
    "decoder_lstm = LSTM(latent_dim, return_sequences=True, return_state=True)\n",
    "decoder_outputs, _, _ = decoder_lstm(decoder_inputs,\n",
    "                                     initial_state=encoder_states)\n",
    "decoder_dense = Dense(num_decoder_tokens, activation='softmax')\n",
    "decoder_outputs = decoder_dense(decoder_outputs)"
   ]
  },
  {
   "cell_type": "code",
   "execution_count": 14,
   "metadata": {},
   "outputs": [],
   "source": [
    "# Define the model that will turn\n",
    "# `encoder_input_data` & `decoder_input_data` into `decoder_target_data`\n",
    "model = Model([encoder_inputs, decoder_inputs], decoder_outputs)"
   ]
  },
  {
   "cell_type": "code",
   "execution_count": 15,
   "metadata": {},
   "outputs": [
    {
     "name": "stdout",
     "output_type": "stream",
     "text": [
      "Train on 2293 samples, validate on 574 samples\n",
      "Epoch 1/100\n",
      "2293/2293 [==============================] - 45s 20ms/step - loss: 0.8216 - val_loss: 1.3057\n",
      "Epoch 2/100\n",
      "2293/2293 [==============================] - 46s 20ms/step - loss: 0.7564 - val_loss: 1.3009\n",
      "Epoch 3/100\n",
      "2293/2293 [==============================] - 49s 21ms/step - loss: 0.7185 - val_loss: 1.1803\n",
      "Epoch 4/100\n",
      "2293/2293 [==============================] - 51s 22ms/step - loss: 0.6552 - val_loss: 1.0912\n",
      "Epoch 5/100\n",
      "2293/2293 [==============================] - 52s 23ms/step - loss: 0.6073 - val_loss: 1.0095\n",
      "Epoch 6/100\n",
      "2293/2293 [==============================] - 52s 23ms/step - loss: 0.5719 - val_loss: 0.9681\n",
      "Epoch 7/100\n",
      "2293/2293 [==============================] - 52s 23ms/step - loss: 0.5409 - val_loss: 0.9499\n",
      "Epoch 8/100\n",
      "2293/2293 [==============================] - 53s 23ms/step - loss: 0.5196 - val_loss: 0.9238\n",
      "Epoch 9/100\n",
      "2293/2293 [==============================] - 53s 23ms/step - loss: 0.5017 - val_loss: 0.8818\n",
      "Epoch 10/100\n",
      "2293/2293 [==============================] - 54s 23ms/step - loss: 0.4886 - val_loss: 0.8751\n",
      "Epoch 11/100\n",
      "2293/2293 [==============================] - 54s 23ms/step - loss: 0.4764 - val_loss: 0.8553\n",
      "Epoch 12/100\n",
      "2293/2293 [==============================] - 55s 24ms/step - loss: 0.4786 - val_loss: 0.8489\n",
      "Epoch 13/100\n",
      "2293/2293 [==============================] - 62s 27ms/step - loss: 0.4573 - val_loss: 0.8397\n",
      "Epoch 14/100\n",
      "2293/2293 [==============================] - 62s 27ms/step - loss: 0.4506 - val_loss: 0.8267\n",
      "Epoch 15/100\n",
      "2293/2293 [==============================] - 62s 27ms/step - loss: 0.4427 - val_loss: 0.8176\n",
      "Epoch 16/100\n",
      "2293/2293 [==============================] - 62s 27ms/step - loss: 0.4353 - val_loss: 0.7956\n",
      "Epoch 17/100\n",
      "2293/2293 [==============================] - 62s 27ms/step - loss: 0.4281 - val_loss: 0.7933\n",
      "Epoch 18/100\n",
      "2293/2293 [==============================] - 62s 27ms/step - loss: 0.4217 - val_loss: 0.7898\n",
      "Epoch 19/100\n",
      "2293/2293 [==============================] - 62s 27ms/step - loss: 0.4156 - val_loss: 0.7934\n",
      "Epoch 20/100\n",
      "2293/2293 [==============================] - 62s 27ms/step - loss: 0.4083 - val_loss: 0.7822\n",
      "Epoch 21/100\n",
      "2293/2293 [==============================] - 62s 27ms/step - loss: 0.4034 - val_loss: 0.7733\n",
      "Epoch 22/100\n",
      "2293/2293 [==============================] - 62s 27ms/step - loss: 0.3973 - val_loss: 0.7729\n",
      "Epoch 23/100\n",
      "2293/2293 [==============================] - 62s 27ms/step - loss: 0.3916 - val_loss: 0.7570\n",
      "Epoch 24/100\n",
      "2293/2293 [==============================] - 62s 27ms/step - loss: 0.3863 - val_loss: 0.7624\n",
      "Epoch 25/100\n",
      "2293/2293 [==============================] - 62s 27ms/step - loss: 0.3813 - val_loss: 0.7671\n",
      "Epoch 26/100\n",
      "2293/2293 [==============================] - 62s 27ms/step - loss: 0.3753 - val_loss: 0.7677\n",
      "Epoch 27/100\n",
      "2293/2293 [==============================] - 63s 27ms/step - loss: 0.3704 - val_loss: 0.7624\n",
      "Epoch 28/100\n",
      "2293/2293 [==============================] - 55s 24ms/step - loss: 0.3653 - val_loss: 0.7555\n",
      "Epoch 29/100\n",
      "2293/2293 [==============================] - 54s 24ms/step - loss: 0.3603 - val_loss: 0.7491\n",
      "Epoch 30/100\n",
      "2293/2293 [==============================] - 54s 24ms/step - loss: 0.3551 - val_loss: 0.7502\n",
      "Epoch 31/100\n",
      "2293/2293 [==============================] - 54s 24ms/step - loss: 0.3501 - val_loss: 0.7568\n",
      "Epoch 32/100\n",
      "2293/2293 [==============================] - 54s 24ms/step - loss: 0.3455 - val_loss: 0.7520\n",
      "Epoch 33/100\n",
      "2293/2293 [==============================] - 55s 24ms/step - loss: 0.3404 - val_loss: 0.7541\n",
      "Epoch 34/100\n",
      "2293/2293 [==============================] - 54s 24ms/step - loss: 0.3351 - val_loss: 0.7492\n",
      "Epoch 35/100\n",
      "2293/2293 [==============================] - 54s 24ms/step - loss: 0.3301 - val_loss: 0.7688\n",
      "Epoch 36/100\n",
      "2293/2293 [==============================] - 54s 24ms/step - loss: 0.3256 - val_loss: 0.7577\n",
      "Epoch 37/100\n",
      "2293/2293 [==============================] - 54s 24ms/step - loss: 0.3210 - val_loss: 0.7526\n",
      "Epoch 38/100\n",
      "2293/2293 [==============================] - 54s 24ms/step - loss: 0.3158 - val_loss: 0.7539\n",
      "Epoch 39/100\n",
      "2293/2293 [==============================] - 55s 24ms/step - loss: 0.3106 - val_loss: 0.7592\n",
      "Epoch 40/100\n",
      "2293/2293 [==============================] - 57s 25ms/step - loss: 0.3056 - val_loss: 0.7635\n",
      "Epoch 41/100\n",
      "2293/2293 [==============================] - 57s 25ms/step - loss: 0.3011 - val_loss: 0.7586\n",
      "Epoch 42/100\n",
      "2293/2293 [==============================] - 56s 24ms/step - loss: 0.2959 - val_loss: 0.7627\n",
      "Epoch 43/100\n",
      "2293/2293 [==============================] - 56s 24ms/step - loss: 0.2909 - val_loss: 0.7669\n",
      "Epoch 44/100\n",
      "2293/2293 [==============================] - 57s 25ms/step - loss: 0.2862 - val_loss: 0.7712\n",
      "Epoch 45/100\n",
      "2293/2293 [==============================] - 57s 25ms/step - loss: 0.2811 - val_loss: 0.7891\n",
      "Epoch 46/100\n",
      "2293/2293 [==============================] - 55s 24ms/step - loss: 0.2765 - val_loss: 0.7865\n",
      "Epoch 47/100\n",
      "2293/2293 [==============================] - 58s 25ms/step - loss: 0.2721 - val_loss: 0.7817\n",
      "Epoch 48/100\n",
      "2293/2293 [==============================] - 57s 25ms/step - loss: 0.2671 - val_loss: 0.7914\n",
      "Epoch 49/100\n",
      "2293/2293 [==============================] - 56s 25ms/step - loss: 0.2621 - val_loss: 0.8119\n",
      "Epoch 50/100\n",
      "2293/2293 [==============================] - 57s 25ms/step - loss: 0.2577 - val_loss: 0.8116\n",
      "Epoch 51/100\n",
      "2293/2293 [==============================] - 57s 25ms/step - loss: 0.2533 - val_loss: 0.8166\n",
      "Epoch 52/100\n",
      "2293/2293 [==============================] - 55s 24ms/step - loss: 0.2491 - val_loss: 0.8153\n",
      "Epoch 53/100\n",
      "2293/2293 [==============================] - 56s 24ms/step - loss: 0.2442 - val_loss: 0.8301\n",
      "Epoch 54/100\n",
      "2293/2293 [==============================] - 56s 24ms/step - loss: 0.2405 - val_loss: 0.8355\n",
      "Epoch 55/100\n",
      "2293/2293 [==============================] - 56s 24ms/step - loss: 0.2366 - val_loss: 0.8411\n",
      "Epoch 56/100\n",
      "2293/2293 [==============================] - 57s 25ms/step - loss: 0.2324 - val_loss: 0.8498\n",
      "Epoch 57/100\n",
      "2293/2293 [==============================] - 56s 25ms/step - loss: 0.2283 - val_loss: 0.8531\n",
      "Epoch 58/100\n",
      "2293/2293 [==============================] - 56s 24ms/step - loss: 0.2251 - val_loss: 0.8601\n",
      "Epoch 59/100\n",
      "2293/2293 [==============================] - 57s 25ms/step - loss: 0.2210 - val_loss: 0.8710\n",
      "Epoch 60/100\n",
      "2293/2293 [==============================] - 58s 25ms/step - loss: 0.2169 - val_loss: 0.8663\n",
      "Epoch 61/100\n",
      "2293/2293 [==============================] - 57s 25ms/step - loss: 0.2139 - val_loss: 0.8871\n",
      "Epoch 62/100\n",
      "2293/2293 [==============================] - 57s 25ms/step - loss: 0.2100 - val_loss: 0.8798\n",
      "Epoch 63/100\n",
      "2293/2293 [==============================] - 56s 25ms/step - loss: 0.2057 - val_loss: 0.8961\n",
      "Epoch 64/100\n",
      "2293/2293 [==============================] - 57s 25ms/step - loss: 0.2026 - val_loss: 0.8999\n",
      "Epoch 65/100\n",
      "2293/2293 [==============================] - 57s 25ms/step - loss: 0.1995 - val_loss: 0.9133\n",
      "Epoch 66/100\n",
      "2293/2293 [==============================] - 57s 25ms/step - loss: 0.1960 - val_loss: 0.9147\n",
      "Epoch 67/100\n",
      "2293/2293 [==============================] - 57s 25ms/step - loss: 0.1923 - val_loss: 0.9260\n",
      "Epoch 68/100\n",
      "2293/2293 [==============================] - 57s 25ms/step - loss: 0.1903 - val_loss: 0.9354\n",
      "Epoch 69/100\n",
      "2293/2293 [==============================] - 57s 25ms/step - loss: 0.1882 - val_loss: 0.9371\n",
      "Epoch 70/100\n",
      "2293/2293 [==============================] - 57s 25ms/step - loss: 0.1837 - val_loss: 0.9355\n",
      "Epoch 71/100\n",
      "2293/2293 [==============================] - 57s 25ms/step - loss: 0.1799 - val_loss: 0.9558\n",
      "Epoch 72/100\n",
      "2293/2293 [==============================] - 57s 25ms/step - loss: 0.1781 - val_loss: 0.9550\n",
      "Epoch 73/100\n",
      "2293/2293 [==============================] - 57s 25ms/step - loss: 0.1739 - val_loss: 0.9582\n",
      "Epoch 74/100\n",
      "2293/2293 [==============================] - 57s 25ms/step - loss: 0.1723 - val_loss: 0.9802\n",
      "Epoch 75/100\n",
      "2293/2293 [==============================] - 57s 25ms/step - loss: 0.1689 - val_loss: 1.0011\n",
      "Epoch 76/100\n",
      "2293/2293 [==============================] - 57s 25ms/step - loss: 0.1670 - val_loss: 0.9997\n",
      "Epoch 77/100\n",
      "2293/2293 [==============================] - 56s 25ms/step - loss: 0.1645 - val_loss: 0.9881\n"
     ]
    },
    {
     "name": "stdout",
     "output_type": "stream",
     "text": [
      "Epoch 78/100\n",
      "2293/2293 [==============================] - 57s 25ms/step - loss: 0.1617 - val_loss: 1.0056\n",
      "Epoch 79/100\n",
      "2293/2293 [==============================] - 56s 25ms/step - loss: 0.1590 - val_loss: 1.0183\n",
      "Epoch 80/100\n",
      "2293/2293 [==============================] - 56s 24ms/step - loss: 0.1564 - val_loss: 1.0277\n",
      "Epoch 81/100\n",
      "2293/2293 [==============================] - 57s 25ms/step - loss: 0.1538 - val_loss: 1.0275\n",
      "Epoch 82/100\n",
      "2293/2293 [==============================] - 56s 25ms/step - loss: 0.1523 - val_loss: 1.0225\n",
      "Epoch 83/100\n",
      "2293/2293 [==============================] - 57s 25ms/step - loss: 0.1497 - val_loss: 1.0550\n",
      "Epoch 84/100\n",
      "2293/2293 [==============================] - 57s 25ms/step - loss: 0.1478 - val_loss: 1.0578\n",
      "Epoch 85/100\n",
      "2293/2293 [==============================] - 57s 25ms/step - loss: 0.1461 - val_loss: 1.0638\n",
      "Epoch 86/100\n",
      "2293/2293 [==============================] - 81s 35ms/step - loss: 0.1440 - val_loss: 1.0599\n",
      "Epoch 87/100\n",
      "2293/2293 [==============================] - 56s 24ms/step - loss: 0.1416 - val_loss: 1.0730\n",
      "Epoch 88/100\n",
      "2293/2293 [==============================] - 56s 24ms/step - loss: 0.1394 - val_loss: 1.0849\n",
      "Epoch 89/100\n",
      "2293/2293 [==============================] - 55s 24ms/step - loss: 0.1368 - val_loss: 1.0957\n",
      "Epoch 90/100\n",
      "2293/2293 [==============================] - 55s 24ms/step - loss: 0.1357 - val_loss: 1.0990\n",
      "Epoch 91/100\n",
      "2293/2293 [==============================] - 55s 24ms/step - loss: 0.1327 - val_loss: 1.0920\n",
      "Epoch 92/100\n",
      "2293/2293 [==============================] - 56s 24ms/step - loss: 0.1305 - val_loss: 1.1113\n",
      "Epoch 93/100\n",
      "2293/2293 [==============================] - 56s 24ms/step - loss: 0.1288 - val_loss: 1.1243\n",
      "Epoch 94/100\n",
      "2293/2293 [==============================] - 56s 24ms/step - loss: 0.1270 - val_loss: 1.1275\n",
      "Epoch 95/100\n",
      "2293/2293 [==============================] - 55s 24ms/step - loss: 0.1253 - val_loss: 1.1252\n",
      "Epoch 96/100\n",
      "2293/2293 [==============================] - 56s 24ms/step - loss: 0.1225 - val_loss: 1.1489\n",
      "Epoch 97/100\n",
      "2293/2293 [==============================] - 56s 24ms/step - loss: 0.1213 - val_loss: 1.1508\n",
      "Epoch 98/100\n",
      "2293/2293 [==============================] - 55s 24ms/step - loss: 0.1195 - val_loss: 1.1544\n",
      "Epoch 99/100\n",
      "2293/2293 [==============================] - 56s 24ms/step - loss: 0.1183 - val_loss: 1.1572\n",
      "Epoch 100/100\n",
      "2293/2293 [==============================] - 55s 24ms/step - loss: 0.1169 - val_loss: 1.1677\n"
     ]
    },
    {
     "data": {
      "text/plain": [
       "<keras.callbacks.History at 0x12ab4eb8>"
      ]
     },
     "execution_count": 15,
     "metadata": {},
     "output_type": "execute_result"
    }
   ],
   "source": [
    "# Run training\n",
    "model.compile(optimizer='rmsprop', loss='categorical_crossentropy')\n",
    "model.fit([encoder_input_data, decoder_input_data], decoder_target_data,\n",
    "          batch_size=batch_size,\n",
    "          epochs=epochs,\n",
    "          validation_split=0.2)"
   ]
  },
  {
   "cell_type": "code",
   "execution_count": 16,
   "metadata": {},
   "outputs": [
    {
     "name": "stderr",
     "output_type": "stream",
     "text": [
      "C:\\Users\\surinder.kumar01\\AppData\\Local\\conda\\conda\\envs\\tia\\lib\\site-packages\\keras-2.1.6-py3.6.egg\\keras\\engine\\topology.py:2379: UserWarning: Layer lstm_2 was passed non-serializable keyword arguments: {'initial_state': [<tf.Tensor 'lstm_1/while/Exit_2:0' shape=(?, 256) dtype=float32>, <tf.Tensor 'lstm_1/while/Exit_3:0' shape=(?, 256) dtype=float32>]}. They will not be included in the serialized model (and thus will be missing at deserialization time).\n",
      "  str(node.arguments) + '. They will not be included '\n"
     ]
    }
   ],
   "source": [
    "# Save model\n",
    "model.save('s2s.h5')"
   ]
  },
  {
   "cell_type": "code",
   "execution_count": 17,
   "metadata": {},
   "outputs": [],
   "source": [
    "# Define sampling models\n",
    "encoder_model = Model(encoder_inputs, encoder_states)\n",
    "\n",
    "decoder_state_input_h = Input(shape=(latent_dim,))\n",
    "decoder_state_input_c = Input(shape=(latent_dim,))\n",
    "decoder_states_inputs = [decoder_state_input_h, decoder_state_input_c]\n",
    "decoder_outputs, state_h, state_c = decoder_lstm(\n",
    "    decoder_inputs, initial_state=decoder_states_inputs)\n",
    "decoder_states = [state_h, state_c]\n",
    "decoder_outputs = decoder_dense(decoder_outputs)\n",
    "decoder_model = Model(\n",
    "    [decoder_inputs] + decoder_states_inputs,\n",
    "    [decoder_outputs] + decoder_states)"
   ]
  },
  {
   "cell_type": "code",
   "execution_count": 18,
   "metadata": {},
   "outputs": [],
   "source": [
    "# Reverse-lookup token index to decode sequences back to\n",
    "# something readable.\n",
    "reverse_input_char_index = dict(\n",
    "    (i, char) for char, i in input_token_index.items())\n",
    "reverse_target_char_index = dict(\n",
    "    (i, char) for char, i in target_token_index.items())"
   ]
  },
  {
   "cell_type": "code",
   "execution_count": 19,
   "metadata": {},
   "outputs": [],
   "source": [
    "def decode_sequence(input_seq):\n",
    "    # Encode the input as state vectors.\n",
    "    states_value = encoder_model.predict(input_seq)\n",
    "\n",
    "    # Generate empty target sequence of length 1.\n",
    "    target_seq = np.zeros((1, 1, num_decoder_tokens))\n",
    "    # Populate the first character of target sequence with the start character.\n",
    "    target_seq[0, 0, target_token_index['\\t']] = 1.\n",
    "\n",
    "    # Sampling loop for a batch of sequences\n",
    "    # (to simplify, here we assume a batch of size 1).\n",
    "    stop_condition = False\n",
    "    decoded_sentence = ''\n",
    "    while not stop_condition:\n",
    "        output_tokens, h, c = decoder_model.predict(\n",
    "            [target_seq] + states_value)\n",
    "\n",
    "        # Sample a token\n",
    "        sampled_token_index = np.argmax(output_tokens[0, -1, :])\n",
    "        sampled_char = reverse_target_char_index[sampled_token_index]\n",
    "        decoded_sentence += sampled_char\n",
    "\n",
    "        # Exit condition: either hit max length\n",
    "        # or find stop character.\n",
    "        if (sampled_char == '\\n' or\n",
    "           len(decoded_sentence) > max_decoder_seq_length):\n",
    "            stop_condition = True\n",
    "\n",
    "        # Update the target sequence (of length 1).\n",
    "        target_seq = np.zeros((1, 1, num_decoder_tokens))\n",
    "        target_seq[0, 0, sampled_token_index] = 1.\n",
    "\n",
    "        # Update states\n",
    "        states_value = [h, c]\n",
    "\n",
    "    return decoded_sentence"
   ]
  },
  {
   "cell_type": "code",
   "execution_count": 30,
   "metadata": {},
   "outputs": [
    {
     "name": "stdout",
     "output_type": "stream",
     "text": [
      "-\n",
      "Input sentence: Wow!\n",
      "Decoded sentence: तुम्हारे पास कितनी किताबें हैं?\n",
      "\n",
      "-\n",
      "Input sentence: Help!\n",
      "Decoded sentence: उसने मुझे मत में दोना में लग्या करा।\n",
      "\n",
      "-\n",
      "Input sentence: Jump.\n",
      "Decoded sentence: तुम्हे इस तरह की आदत तोड़ दिना चाहिए।\n",
      "\n",
      "-\n",
      "Input sentence: Jump.\n",
      "Decoded sentence: तुम्हे इस तरह की आदत तोड़ दिना चाहिए।\n",
      "\n",
      "-\n",
      "Input sentence: Jump.\n",
      "Decoded sentence: तुम्हे इस तरह की आदत तोड़ दिना चाहिए।\n",
      "\n"
     ]
    }
   ],
   "source": [
    "for seq_index in range(5):\n",
    "    # Take one sequence (part of the training set)\n",
    "    # for trying out decoding.\n",
    "    input_seq = encoder_input_data[seq_index: seq_index + 1]\n",
    "    decoded_sentence = decode_sequence(input_seq)\n",
    "    print('-')\n",
    "    print('Input sentence:', input_texts[seq_index])\n",
    "    print('Decoded sentence:', decoded_sentence)"
   ]
  },
  {
   "cell_type": "code",
   "execution_count": null,
   "metadata": {},
   "outputs": [],
   "source": []
  }
 ],
 "metadata": {
  "kernelspec": {
   "display_name": "Python [conda env:tia]",
   "language": "python",
   "name": "conda-env-tia-py"
  },
  "language_info": {
   "codemirror_mode": {
    "name": "ipython",
    "version": 3
   },
   "file_extension": ".py",
   "mimetype": "text/x-python",
   "name": "python",
   "nbconvert_exporter": "python",
   "pygments_lexer": "ipython3",
   "version": "3.6.5"
  }
 },
 "nbformat": 4,
 "nbformat_minor": 2
}
